{
 "cells": [
  {
   "cell_type": "code",
   "execution_count": 3,
   "metadata": {},
   "outputs": [],
   "source": [
    "import gym\n",
    "import torch\n",
    "import torch.nn as nn\n",
    "import torch.optim as optim\n",
    "from torch.distributions import Categorical\n",
    "import random\n",
    "import numpy as np\n",
    "import torch as T"
   ]
  },
  {
   "cell_type": "code",
   "execution_count": 4,
   "metadata": {},
   "outputs": [],
   "source": [
    "class RND(nn.Module):\n",
    "    def __init__(self,in_features):\n",
    "        super(RND,self).__init__()\n",
    "        self.fc1 = nn.Linear(*in_dims,out_features=256)\n",
    "        self.relu1 = nn.ReLU()\n",
    "        self.fc2 = nn.Linear(256,64)\n",
    "        self.relu2 = nn.ReLU()\n",
    "        self.fc3 = nn.Linear(64,1)\n",
    "        \n",
    "    def forward(self,observation):\n",
    "        state = T.FloatTensor(observation)\n",
    "        x = self.relu1(self.fc1(state))\n",
    "        x = self.relu2(self.fc2(x))\n",
    "        x = self.fc3(x)\n",
    "        return x"
   ]
  },
  {
   "cell_type": "code",
   "execution_count": 5,
   "metadata": {},
   "outputs": [],
   "source": [
    "# feature = RND(in_dims)\n",
    "# predictor = RND(in_dims)\n",
    "# objective = nn.MSELoss(reduction='mean')\n",
    "# intrinsic_optim = optim.RMSprop(params=predictor.parameters(),lr=0.001)\n",
    "\n",
    "# state = env.reset()\n",
    "\n",
    "# feat_out = feature(state)\n",
    "# pred_out = predictor(state)\n",
    "# curiosity_reward = T.abs(feat_out-pred_out)\n",
    "\n",
    "# loss = objective(pred_out,feat_out)\n",
    "\n",
    "# intrinsic_optim.zero_grad()\n",
    "# loss.backward()\n",
    "# intrinsic_optim.step()"
   ]
  },
  {
   "cell_type": "code",
   "execution_count": null,
   "metadata": {},
   "outputs": [],
   "source": []
  },
  {
   "cell_type": "code",
   "execution_count": null,
   "metadata": {},
   "outputs": [],
   "source": []
  },
  {
   "cell_type": "code",
   "execution_count": 6,
   "metadata": {},
   "outputs": [],
   "source": [
    "class Qnet(nn.Module):\n",
    "    def __init__(self,in_dims,n_actions,alpha):\n",
    "        super(Qnet,self).__init__()\n",
    "        self.in_dims = in_dims\n",
    "        self.n_actions = n_actions\n",
    "        self.fc1 = nn.Linear(*self.in_dims,256)\n",
    "        self.relu1 = nn.ReLU()\n",
    "        self.fc2 = nn.Linear(256,256)\n",
    "        self.relu2 = nn.ReLU()\n",
    "        self.fc3 = nn.Linear(256,self.n_actions)\n",
    "        self.loss = nn.MSELoss() ###\n",
    "        self.optimizer = optim.RMSprop(params=self.parameters(),lr=alpha)\n",
    "        \n",
    "    def forward(self,observation):\n",
    "        state = T.FloatTensor(observation)\n",
    "        x = self.relu1(self.fc1(state))\n",
    "        x = self.relu2(self.fc2(x))\n",
    "        actions = self.fc3(x)\n",
    "        return actions"
   ]
  },
  {
   "cell_type": "code",
   "execution_count": 7,
   "metadata": {},
   "outputs": [],
   "source": [
    "class Agent(object):\n",
    "    def __init__(self,in_dims,n_actions,alpha,epsilon,gamma,batch_size,reply_mem_size,epsilon_min=0.01,epsilon_decrease=0.996):\n",
    "        self.in_dims = in_dims\n",
    "        self.action_space = [i for i in range(n_actions)]\n",
    "        self.n_actions = n_actions\n",
    "        self.alpha = alpha\n",
    "        self.gamma = gamma\n",
    "        self.batch_size = batch_size\n",
    "        self.reply_mem_size = reply_mem_size\n",
    "        self.mem_cntr = 0\n",
    "        \n",
    "        self.epsilon = epsilon\n",
    "        self.epsilon_min = epsilon_min\n",
    "        self.epsilon_decrease = epsilon_decrease\n",
    "        \n",
    "        # define memories\n",
    "        self.state_mem = np.zeros((self.reply_mem_size,*self.in_dims))\n",
    "        self.action_mem = np.zeros((self.reply_mem_size,self.n_actions))\n",
    "        self.reward_mem = np.zeros((self.reply_mem_size))\n",
    "        self.next_state_mem = np.zeros((self.reply_mem_size,*self.in_dims))\n",
    "        self.is_done_mem = np.zeros((self.reply_mem_size))\n",
    "        \n",
    "        # define brain\n",
    "        self.brain = Qnet(self.in_dims,self.n_actions,self.alpha)\n",
    "        \n",
    "        \n",
    "    def store_experiance(self,state,action,reward,next_state,is_done):\n",
    "        index = self.mem_cntr % self.reply_mem_size\n",
    "        \n",
    "        self.state_mem[index] = state\n",
    "        actions = np.zeros(self.n_actions)\n",
    "        actions[action] = 1.0\n",
    "        self.action_mem[index] = actions\n",
    "        self.reward_mem[index] = reward\n",
    "        self.next_state_mem[index] = next_state\n",
    "        self.is_done_mem[index] = 1 - is_done\n",
    "        self.mem_cntr += 1\n",
    "        \n",
    "    \n",
    "    def act(self,observation):\n",
    "        net_act = self.brain.forward(observation)\n",
    "        if  np.random.random() > self.epsilon:\n",
    "            action = T.argmax(net_act).item()\n",
    "        else:\n",
    "            action = np.random.choice(self.action_space)\n",
    "        return action\n",
    "            \n",
    "            \n",
    "    def learn(self):\n",
    "        if self.mem_cntr > self.batch_size:\n",
    "            self.brain.optimizer.zero_grad()\n",
    "            \n",
    "            max_mem = self.mem_cntr if self.mem_cntr < self.reply_mem_size else self.reply_mem_size\n",
    "            \n",
    "            batch = np.random.choice(max_mem,self.batch_size)\n",
    "            \n",
    "            state_batch = self.state_mem[batch]\n",
    "            action_batch = self.action_mem[batch]\n",
    "            action_values = np.array(self.action_space)\n",
    "            action_indices = np.dot(action_batch, action_values)\n",
    "            reward_batch = T.Tensor(self.reward_mem[batch])\n",
    "            next_state_batch = self.next_state_mem[batch]\n",
    "            is_done_batch = T.Tensor(self.is_done_mem[batch])\n",
    "            \n",
    "            self.q_eval = self.brain.forward(state_batch)\n",
    "            self.q_target = self.q_eval.clone()\n",
    "            self.q_next = self.brain.forward(next_state_batch)\n",
    "            \n",
    "            batch_index = np.arange(self.batch_size)\n",
    "            \n",
    "            self.q_target[batch_index,action_indices] = reward_batch + self.gamma * T.max(self.q_next,dim=1)[0] * is_done_batch\n",
    "            \n",
    "            self.epsilon = self.epsilon * self.epsilon_decrease if self.epsilon > self.epsilon_min else self.epsilon_min\n",
    "            \n",
    "            loss = self.brain.loss(self.q_target,self.q_eval)\n",
    "            loss.backward()\n",
    "            self.brain.optimizer.step()\n",
    "            \n",
    "            "
   ]
  },
  {
   "cell_type": "code",
   "execution_count": 8,
   "metadata": {},
   "outputs": [
    {
     "name": "stdout",
     "output_type": "stream",
     "text": [
      "(6,) 3\n"
     ]
    }
   ],
   "source": [
    "env = gym.make(\"Acrobot-v1\")\n",
    "\n",
    "state_reset = env.reset()\n",
    "\n",
    "in_dims = state_reset.shape\n",
    "n_actions = env.action_space.n\n",
    "print(in_dims,n_actions)"
   ]
  },
  {
   "cell_type": "code",
   "execution_count": 9,
   "metadata": {},
   "outputs": [],
   "source": [
    "alpha = 0.001\n",
    "epsilon = 1.0\n",
    "gamma = 0.9\n",
    "batch_size = 248\n",
    "reply_mem_size = 100000\n",
    "driver = Agent(in_dims,n_actions,alpha,epsilon,gamma,batch_size,reply_mem_size)"
   ]
  },
  {
   "cell_type": "code",
   "execution_count": 10,
   "metadata": {},
   "outputs": [],
   "source": [
    "n_episodes = 1000"
   ]
  },
  {
   "cell_type": "code",
   "execution_count": 11,
   "metadata": {},
   "outputs": [
    {
     "name": "stdout",
     "output_type": "stream",
     "text": [
      "episode : 0 \n",
      " avg_score : -500.0 \n",
      " epsilon : 0.996\n",
      "episode : 10 \n",
      " avg_score : -500.0 \n",
      " epsilon : 0.9568695240087989\n",
      "episode : 20 \n",
      " avg_score : -500.0 \n",
      " epsilon : 0.9192763915429975\n",
      "episode : 30 \n",
      " avg_score : -500.0 \n",
      " epsilon : 0.8831602040243718\n",
      "episode : 40 \n",
      " avg_score : -500.0 \n",
      " epsilon : 0.8484629357914802\n",
      "episode : 50 \n",
      " avg_score : -500.0 \n",
      " epsilon : 0.8151288408733952\n",
      "episode : 60 \n",
      " avg_score : -500.0 \n",
      " epsilon : 0.7831043634260739\n",
      "episode : 70 \n",
      " avg_score : -470.8181818181818 \n",
      " epsilon : 0.7523380516874708\n",
      "episode : 80 \n",
      " avg_score : -480.72727272727275 \n",
      " epsilon : 0.72278047531315\n",
      "episode : 90 \n",
      " avg_score : -500.0 \n",
      " epsilon : 0.6943841459595858\n",
      "episode : 100 \n",
      " avg_score : -500.0 \n",
      " epsilon : 0.6671034409875553\n",
      "episode : 110 \n",
      " avg_score : -500.0 \n",
      " epsilon : 0.640894530163046\n",
      "episode : 120 \n",
      " avg_score : -497.09090909090907 \n",
      " epsilon : 0.6157153052379084\n",
      "episode : 130 \n",
      " avg_score : -494.09090909090907 \n",
      " epsilon : 0.5915253122971182\n",
      "episode : 140 \n",
      " avg_score : -500.0 \n",
      " epsilon : 0.5682856867639554\n",
      "episode : 150 \n",
      " avg_score : -497.54545454545456 \n",
      " epsilon : 0.5459590909586742\n",
      "episode : 160 \n",
      " avg_score : -500.0 \n",
      " epsilon : 0.5245096541103446\n",
      "episode : 170 \n",
      " avg_score : -473.0 \n",
      " epsilon : 0.503902914725487\n",
      "episode : 180 \n",
      " avg_score : -489.0 \n",
      " epsilon : 0.4841057652209067\n",
      "episode : 190 \n",
      " avg_score : -463.09090909090907 \n",
      " epsilon : 0.4650863987317714\n",
      "episode : 200 \n",
      " avg_score : -481.27272727272725 \n",
      " epsilon : 0.4468142580094745\n",
      "episode : 210 \n",
      " avg_score : -477.6363636363636 \n",
      " epsilon : 0.42925998632717927\n",
      "episode : 220 \n",
      " avg_score : -476.6363636363636 \n",
      " epsilon : 0.4123953803141683\n",
      "episode : 230 \n",
      " avg_score : -500.0 \n",
      " epsilon : 0.39619334464321876\n",
      "episode : 240 \n",
      " avg_score : -496.45454545454544 \n",
      " epsilon : 0.3806278484982036\n",
      "episode : 250 \n",
      " avg_score : -477.0 \n",
      " epsilon : 0.3656738837519773\n",
      "episode : 260 \n",
      " avg_score : -477.6363636363636 \n",
      " epsilon : 0.35130742478735283\n",
      "episode : 270 \n",
      " avg_score : -478.3636363636364 \n",
      " epsilon : 0.33750538989661766\n",
      "episode : 280 \n",
      " avg_score : -479.45454545454544 \n",
      " epsilon : 0.3242456041975709\n",
      "episode : 290 \n",
      " avg_score : -500.0 \n",
      " epsilon : 0.3115067640065011\n",
      "episode : 300 \n",
      " avg_score : -499.3636363636364 \n",
      " epsilon : 0.29926840261086546\n",
      "episode : 310 \n",
      " avg_score : -496.90909090909093 \n",
      " epsilon : 0.28751085738667914\n",
      "episode : 320 \n",
      " avg_score : -467.72727272727275 \n",
      " epsilon : 0.2762152382077845\n",
      "episode : 330 \n",
      " avg_score : -463.45454545454544 \n",
      " epsilon : 0.2653633970962447\n",
      "episode : 340 \n",
      " avg_score : -397.90909090909093 \n",
      " epsilon : 0.2549378990651019\n",
      "episode : 350 \n",
      " avg_score : -237.8181818181818 \n",
      " epsilon : 0.24492199410665388\n",
      "episode : 360 \n",
      " avg_score : -302.27272727272725 \n",
      " epsilon : 0.23529959028124472\n",
      "episode : 370 \n",
      " avg_score : -367.3636363636364 \n",
      " epsilon : 0.2260552278633334\n",
      "episode : 380 \n",
      " avg_score : -337.8181818181818 \n",
      " epsilon : 0.21717405450330163\n",
      "episode : 390 \n",
      " avg_score : -241.63636363636363 \n",
      " epsilon : 0.20864180136509555\n",
      "episode : 400 \n",
      " avg_score : -240.9090909090909 \n",
      " epsilon : 0.2004447602013628\n",
      "episode : 410 \n",
      " avg_score : -241.63636363636363 \n",
      " epsilon : 0.1925697613292529\n",
      "episode : 420 \n",
      " avg_score : -277.45454545454544 \n",
      " epsilon : 0.18500415247149624\n",
      "episode : 430 \n",
      " avg_score : -287.09090909090907 \n",
      " epsilon : 0.17773577842876692\n",
      "episode : 440 \n",
      " avg_score : -318.72727272727275 \n",
      " epsilon : 0.17075296155067024\n",
      "episode : 450 \n",
      " avg_score : -282.09090909090907 \n",
      " epsilon : 0.16404448297397844\n",
      "episode : 460 \n",
      " avg_score : -221.72727272727272 \n",
      " epsilon : 0.15759956459797217\n",
      "episode : 470 \n",
      " avg_score : -260.72727272727275 \n",
      " epsilon : 0.1514078517679273\n",
      "episode : 480 \n",
      " avg_score : -264.45454545454544 \n",
      " epsilon : 0.1454593966389271\n",
      "episode : 490 \n",
      " avg_score : -400.6363636363636 \n",
      " epsilon : 0.13974464219327035\n",
      "episode : 500 \n",
      " avg_score : -339.72727272727275 \n",
      " epsilon : 0.13425440688579773\n",
      "episode : 510 \n",
      " avg_score : -169.0909090909091 \n",
      " epsilon : 0.12897986989246676\n",
      "episode : 520 \n",
      " avg_score : -162.63636363636363 \n",
      " epsilon : 0.12391255693847539\n",
      "episode : 530 \n",
      " avg_score : -185.1818181818182 \n",
      " epsilon : 0.11904432668316481\n",
      "episode : 540 \n",
      " avg_score : -136.8181818181818 \n",
      " epsilon : 0.11436735763982718\n",
      "episode : 550 \n",
      " avg_score : -167.9090909090909 \n",
      " epsilon : 0.10987413560940311\n",
      "episode : 560 \n",
      " avg_score : -145.27272727272728 \n",
      " epsilon : 0.1055574416078793\n",
      "episode : 570 \n",
      " avg_score : -140.8181818181818 \n",
      " epsilon : 0.10141034026799003\n",
      "episode : 580 \n",
      " avg_score : -133.36363636363637 \n",
      " epsilon : 0.09742616869658832\n",
      "episode : 590 \n",
      " avg_score : -118.27272727272727 \n",
      " epsilon : 0.09359852576978456\n",
      "episode : 600 \n",
      " avg_score : -138.27272727272728 \n",
      " epsilon : 0.08992126184865366\n"
     ]
    },
    {
     "ename": "KeyboardInterrupt",
     "evalue": "",
     "output_type": "error",
     "traceback": [
      "\u001b[1;31m---------------------------------------------------------------------------\u001b[0m",
      "\u001b[1;31mKeyboardInterrupt\u001b[0m                         Traceback (most recent call last)",
      "\u001b[1;32m<ipython-input-11-a2060691758b>\u001b[0m in \u001b[0;36m<module>\u001b[1;34m\u001b[0m\n\u001b[0;32m     11\u001b[0m     \u001b[0mscore\u001b[0m \u001b[1;33m=\u001b[0m \u001b[1;36m0\u001b[0m\u001b[1;33m\u001b[0m\u001b[1;33m\u001b[0m\u001b[0m\n\u001b[0;32m     12\u001b[0m     \u001b[1;32mwhile\u001b[0m \u001b[1;32mnot\u001b[0m \u001b[0mdone\u001b[0m\u001b[1;33m:\u001b[0m\u001b[1;33m\u001b[0m\u001b[1;33m\u001b[0m\u001b[0m\n\u001b[1;32m---> 13\u001b[1;33m         \u001b[0maction\u001b[0m \u001b[1;33m=\u001b[0m \u001b[0mdriver\u001b[0m\u001b[1;33m.\u001b[0m\u001b[0mact\u001b[0m\u001b[1;33m(\u001b[0m\u001b[0mobservation\u001b[0m\u001b[1;33m)\u001b[0m\u001b[1;33m\u001b[0m\u001b[1;33m\u001b[0m\u001b[0m\n\u001b[0m\u001b[0;32m     14\u001b[0m         \u001b[0mobservation_\u001b[0m\u001b[1;33m,\u001b[0m \u001b[0mreward\u001b[0m\u001b[1;33m,\u001b[0m \u001b[0mdone\u001b[0m\u001b[1;33m,\u001b[0m \u001b[0minfo\u001b[0m \u001b[1;33m=\u001b[0m \u001b[0menv\u001b[0m\u001b[1;33m.\u001b[0m\u001b[0mstep\u001b[0m\u001b[1;33m(\u001b[0m\u001b[0maction\u001b[0m\u001b[1;33m)\u001b[0m\u001b[1;33m\u001b[0m\u001b[1;33m\u001b[0m\u001b[0m\n\u001b[0;32m     15\u001b[0m \u001b[1;31m#         env.render()\u001b[0m\u001b[1;33m\u001b[0m\u001b[1;33m\u001b[0m\u001b[1;33m\u001b[0m\u001b[0m\n",
      "\u001b[1;32m<ipython-input-7-cd1e878d2476>\u001b[0m in \u001b[0;36mact\u001b[1;34m(self, observation)\u001b[0m\n\u001b[0;32m     39\u001b[0m \u001b[1;33m\u001b[0m\u001b[0m\n\u001b[0;32m     40\u001b[0m     \u001b[1;32mdef\u001b[0m \u001b[0mact\u001b[0m\u001b[1;33m(\u001b[0m\u001b[0mself\u001b[0m\u001b[1;33m,\u001b[0m\u001b[0mobservation\u001b[0m\u001b[1;33m)\u001b[0m\u001b[1;33m:\u001b[0m\u001b[1;33m\u001b[0m\u001b[1;33m\u001b[0m\u001b[0m\n\u001b[1;32m---> 41\u001b[1;33m         \u001b[0mnet_act\u001b[0m \u001b[1;33m=\u001b[0m \u001b[0mself\u001b[0m\u001b[1;33m.\u001b[0m\u001b[0mbrain\u001b[0m\u001b[1;33m.\u001b[0m\u001b[0mforward\u001b[0m\u001b[1;33m(\u001b[0m\u001b[0mobservation\u001b[0m\u001b[1;33m)\u001b[0m\u001b[1;33m\u001b[0m\u001b[1;33m\u001b[0m\u001b[0m\n\u001b[0m\u001b[0;32m     42\u001b[0m         \u001b[1;32mif\u001b[0m  \u001b[0mnp\u001b[0m\u001b[1;33m.\u001b[0m\u001b[0mrandom\u001b[0m\u001b[1;33m.\u001b[0m\u001b[0mrandom\u001b[0m\u001b[1;33m(\u001b[0m\u001b[1;33m)\u001b[0m \u001b[1;33m>\u001b[0m \u001b[0mself\u001b[0m\u001b[1;33m.\u001b[0m\u001b[0mepsilon\u001b[0m\u001b[1;33m:\u001b[0m\u001b[1;33m\u001b[0m\u001b[1;33m\u001b[0m\u001b[0m\n\u001b[0;32m     43\u001b[0m             \u001b[0maction\u001b[0m \u001b[1;33m=\u001b[0m \u001b[0mT\u001b[0m\u001b[1;33m.\u001b[0m\u001b[0margmax\u001b[0m\u001b[1;33m(\u001b[0m\u001b[0mnet_act\u001b[0m\u001b[1;33m)\u001b[0m\u001b[1;33m.\u001b[0m\u001b[0mitem\u001b[0m\u001b[1;33m(\u001b[0m\u001b[1;33m)\u001b[0m\u001b[1;33m\u001b[0m\u001b[1;33m\u001b[0m\u001b[0m\n",
      "\u001b[1;32m<ipython-input-6-63cf0ef52c13>\u001b[0m in \u001b[0;36mforward\u001b[1;34m(self, observation)\u001b[0m\n\u001b[0;32m     15\u001b[0m         \u001b[0mstate\u001b[0m \u001b[1;33m=\u001b[0m \u001b[0mT\u001b[0m\u001b[1;33m.\u001b[0m\u001b[0mFloatTensor\u001b[0m\u001b[1;33m(\u001b[0m\u001b[0mobservation\u001b[0m\u001b[1;33m)\u001b[0m\u001b[1;33m\u001b[0m\u001b[1;33m\u001b[0m\u001b[0m\n\u001b[0;32m     16\u001b[0m         \u001b[0mx\u001b[0m \u001b[1;33m=\u001b[0m \u001b[0mself\u001b[0m\u001b[1;33m.\u001b[0m\u001b[0mrelu1\u001b[0m\u001b[1;33m(\u001b[0m\u001b[0mself\u001b[0m\u001b[1;33m.\u001b[0m\u001b[0mfc1\u001b[0m\u001b[1;33m(\u001b[0m\u001b[0mstate\u001b[0m\u001b[1;33m)\u001b[0m\u001b[1;33m)\u001b[0m\u001b[1;33m\u001b[0m\u001b[1;33m\u001b[0m\u001b[0m\n\u001b[1;32m---> 17\u001b[1;33m         \u001b[0mx\u001b[0m \u001b[1;33m=\u001b[0m \u001b[0mself\u001b[0m\u001b[1;33m.\u001b[0m\u001b[0mrelu2\u001b[0m\u001b[1;33m(\u001b[0m\u001b[0mself\u001b[0m\u001b[1;33m.\u001b[0m\u001b[0mfc2\u001b[0m\u001b[1;33m(\u001b[0m\u001b[0mx\u001b[0m\u001b[1;33m)\u001b[0m\u001b[1;33m)\u001b[0m\u001b[1;33m\u001b[0m\u001b[1;33m\u001b[0m\u001b[0m\n\u001b[0m\u001b[0;32m     18\u001b[0m         \u001b[0mactions\u001b[0m \u001b[1;33m=\u001b[0m \u001b[0mself\u001b[0m\u001b[1;33m.\u001b[0m\u001b[0mfc3\u001b[0m\u001b[1;33m(\u001b[0m\u001b[0mx\u001b[0m\u001b[1;33m)\u001b[0m\u001b[1;33m\u001b[0m\u001b[1;33m\u001b[0m\u001b[0m\n\u001b[0;32m     19\u001b[0m         \u001b[1;32mreturn\u001b[0m \u001b[0mactions\u001b[0m\u001b[1;33m\u001b[0m\u001b[1;33m\u001b[0m\u001b[0m\n",
      "\u001b[1;32mC:\\ProgramData\\Anaconda3\\lib\\site-packages\\torch\\nn\\modules\\module.py\u001b[0m in \u001b[0;36m__call__\u001b[1;34m(self, *input, **kwargs)\u001b[0m\n\u001b[0;32m    539\u001b[0m             \u001b[0mresult\u001b[0m \u001b[1;33m=\u001b[0m \u001b[0mself\u001b[0m\u001b[1;33m.\u001b[0m\u001b[0m_slow_forward\u001b[0m\u001b[1;33m(\u001b[0m\u001b[1;33m*\u001b[0m\u001b[0minput\u001b[0m\u001b[1;33m,\u001b[0m \u001b[1;33m**\u001b[0m\u001b[0mkwargs\u001b[0m\u001b[1;33m)\u001b[0m\u001b[1;33m\u001b[0m\u001b[1;33m\u001b[0m\u001b[0m\n\u001b[0;32m    540\u001b[0m         \u001b[1;32melse\u001b[0m\u001b[1;33m:\u001b[0m\u001b[1;33m\u001b[0m\u001b[1;33m\u001b[0m\u001b[0m\n\u001b[1;32m--> 541\u001b[1;33m             \u001b[0mresult\u001b[0m \u001b[1;33m=\u001b[0m \u001b[0mself\u001b[0m\u001b[1;33m.\u001b[0m\u001b[0mforward\u001b[0m\u001b[1;33m(\u001b[0m\u001b[1;33m*\u001b[0m\u001b[0minput\u001b[0m\u001b[1;33m,\u001b[0m \u001b[1;33m**\u001b[0m\u001b[0mkwargs\u001b[0m\u001b[1;33m)\u001b[0m\u001b[1;33m\u001b[0m\u001b[1;33m\u001b[0m\u001b[0m\n\u001b[0m\u001b[0;32m    542\u001b[0m         \u001b[1;32mfor\u001b[0m \u001b[0mhook\u001b[0m \u001b[1;32min\u001b[0m \u001b[0mself\u001b[0m\u001b[1;33m.\u001b[0m\u001b[0m_forward_hooks\u001b[0m\u001b[1;33m.\u001b[0m\u001b[0mvalues\u001b[0m\u001b[1;33m(\u001b[0m\u001b[1;33m)\u001b[0m\u001b[1;33m:\u001b[0m\u001b[1;33m\u001b[0m\u001b[1;33m\u001b[0m\u001b[0m\n\u001b[0;32m    543\u001b[0m             \u001b[0mhook_result\u001b[0m \u001b[1;33m=\u001b[0m \u001b[0mhook\u001b[0m\u001b[1;33m(\u001b[0m\u001b[0mself\u001b[0m\u001b[1;33m,\u001b[0m \u001b[0minput\u001b[0m\u001b[1;33m,\u001b[0m \u001b[0mresult\u001b[0m\u001b[1;33m)\u001b[0m\u001b[1;33m\u001b[0m\u001b[1;33m\u001b[0m\u001b[0m\n",
      "\u001b[1;32mC:\\ProgramData\\Anaconda3\\lib\\site-packages\\torch\\nn\\modules\\activation.py\u001b[0m in \u001b[0;36mforward\u001b[1;34m(self, input)\u001b[0m\n\u001b[0;32m     92\u001b[0m \u001b[1;33m\u001b[0m\u001b[0m\n\u001b[0;32m     93\u001b[0m     \u001b[1;32mdef\u001b[0m \u001b[0mforward\u001b[0m\u001b[1;33m(\u001b[0m\u001b[0mself\u001b[0m\u001b[1;33m,\u001b[0m \u001b[0minput\u001b[0m\u001b[1;33m)\u001b[0m\u001b[1;33m:\u001b[0m\u001b[1;33m\u001b[0m\u001b[1;33m\u001b[0m\u001b[0m\n\u001b[1;32m---> 94\u001b[1;33m         \u001b[1;32mreturn\u001b[0m \u001b[0mF\u001b[0m\u001b[1;33m.\u001b[0m\u001b[0mrelu\u001b[0m\u001b[1;33m(\u001b[0m\u001b[0minput\u001b[0m\u001b[1;33m,\u001b[0m \u001b[0minplace\u001b[0m\u001b[1;33m=\u001b[0m\u001b[0mself\u001b[0m\u001b[1;33m.\u001b[0m\u001b[0minplace\u001b[0m\u001b[1;33m)\u001b[0m\u001b[1;33m\u001b[0m\u001b[1;33m\u001b[0m\u001b[0m\n\u001b[0m\u001b[0;32m     95\u001b[0m \u001b[1;33m\u001b[0m\u001b[0m\n\u001b[0;32m     96\u001b[0m     \u001b[1;32mdef\u001b[0m \u001b[0mextra_repr\u001b[0m\u001b[1;33m(\u001b[0m\u001b[0mself\u001b[0m\u001b[1;33m)\u001b[0m\u001b[1;33m:\u001b[0m\u001b[1;33m\u001b[0m\u001b[1;33m\u001b[0m\u001b[0m\n",
      "\u001b[1;32mC:\\ProgramData\\Anaconda3\\lib\\site-packages\\torch\\nn\\functional.py\u001b[0m in \u001b[0;36mrelu\u001b[1;34m(input, inplace)\u001b[0m\n\u001b[0;32m    912\u001b[0m         \u001b[0mresult\u001b[0m \u001b[1;33m=\u001b[0m \u001b[0mtorch\u001b[0m\u001b[1;33m.\u001b[0m\u001b[0mrelu_\u001b[0m\u001b[1;33m(\u001b[0m\u001b[0minput\u001b[0m\u001b[1;33m)\u001b[0m\u001b[1;33m\u001b[0m\u001b[1;33m\u001b[0m\u001b[0m\n\u001b[0;32m    913\u001b[0m     \u001b[1;32melse\u001b[0m\u001b[1;33m:\u001b[0m\u001b[1;33m\u001b[0m\u001b[1;33m\u001b[0m\u001b[0m\n\u001b[1;32m--> 914\u001b[1;33m         \u001b[0mresult\u001b[0m \u001b[1;33m=\u001b[0m \u001b[0mtorch\u001b[0m\u001b[1;33m.\u001b[0m\u001b[0mrelu\u001b[0m\u001b[1;33m(\u001b[0m\u001b[0minput\u001b[0m\u001b[1;33m)\u001b[0m\u001b[1;33m\u001b[0m\u001b[1;33m\u001b[0m\u001b[0m\n\u001b[0m\u001b[0;32m    915\u001b[0m     \u001b[1;32mreturn\u001b[0m \u001b[0mresult\u001b[0m\u001b[1;33m\u001b[0m\u001b[1;33m\u001b[0m\u001b[0m\n\u001b[0;32m    916\u001b[0m \u001b[1;33m\u001b[0m\u001b[0m\n",
      "\u001b[1;31mKeyboardInterrupt\u001b[0m: "
     ]
    }
   ],
   "source": [
    "scores = []\n",
    "eps_history = []\n",
    "feature = RND(in_dims)\n",
    "predictor = RND(in_dims)\n",
    "objective = nn.MSELoss(reduction='mean')\n",
    "intrinsic_optim = optim.RMSprop(params=predictor.parameters(),lr=0.00001)\n",
    "for i in range(n_episodes):\n",
    "#     print(\"---------------------------- \",\"episode\",i,\" --------------------------\")\n",
    "    done = False\n",
    "    observation = env.reset()\n",
    "    score = 0\n",
    "    while not done:\n",
    "        action = driver.act(observation)\n",
    "        observation_, reward, done, info = env.step(action)\n",
    "#         env.render()\n",
    "\n",
    "#         # Curiosity Implemented Start\n",
    "#         feat_out = feature(torch.FloatTensor(observation_))\n",
    "#         pred_out = predictor(torch.FloatTensor(observation_))\n",
    "#         curiosity_reward = T.abs(feat_out-pred_out)\n",
    "#         loss = objective(pred_out,feat_out)\n",
    "#         intrinsic_optim.zero_grad()\n",
    "#         loss.backward()\n",
    "#         intrinsic_optim.step()\n",
    "#         reward += loss.item()*10\n",
    "#         # Curiosity Implemented End\n",
    "        \n",
    "        \n",
    "        score += reward\n",
    "        driver.store_experiance(observation, action, reward, observation_,done)\n",
    "        observation = observation_\n",
    "#     if i % 10 == 0:\n",
    "    driver.learn()\n",
    "#     env.close()\n",
    "    scores.append(score)\n",
    "    eps_history.append(driver.epsilon)\n",
    "    if i % 10 == 0:\n",
    "        print(\"episode :\",i,\"\\n\",\"avg_score :\",np.mean(scores[max(0, i-10):(i+1)]),\"\\n\",\"epsilon :\",driver.epsilon)\n",
    "#         print(\"episode :\",i,\"\\n\",\"avg_score :\",scores[i],\"\\n\",\"epsilon :\",driver.epsilon)"
   ]
  },
  {
   "cell_type": "code",
   "execution_count": null,
   "metadata": {},
   "outputs": [],
   "source": [
    "driver.mem_cntr"
   ]
  },
  {
   "cell_type": "code",
   "execution_count": 17,
   "metadata": {},
   "outputs": [],
   "source": [
    "import matplotlib.pyplot as plt"
   ]
  },
  {
   "cell_type": "code",
   "execution_count": 18,
   "metadata": {},
   "outputs": [
    {
     "data": {
      "text/plain": [
       "[<matplotlib.lines.Line2D at 0x137befec978>]"
      ]
     },
     "execution_count": 18,
     "metadata": {},
     "output_type": "execute_result"
    },
    {
     "data": {
      "image/png": "[encoded data removed]",
      "text/plain": [
       "<Figure size 432x288 with 1 Axes>"
      ]
     },
     "metadata": {
      "needs_background": "light"
     },
     "output_type": "display_data"
    }
   ],
   "source": [
    "plt.plot(scores)"
   ]
  },
  {
   "cell_type": "code",
   "execution_count": 110,
   "metadata": {},
   "outputs": [],
   "source": [
    "env.close()"
   ]
  },
  {
   "cell_type": "code",
   "execution_count": 13,
   "metadata": {},
   "outputs": [],
   "source": [
    "import time"
   ]
  },
  {
   "cell_type": "code",
   "execution_count": 15,
   "metadata": {},
   "outputs": [
    {
     "name": "stdout",
     "output_type": "stream",
     "text": [
      "-111.0\n",
      "-113.0\n",
      "-96.0\n",
      "-96.0\n",
      "-104.0\n"
     ]
    }
   ],
   "source": [
    "for i in range(5):\n",
    "    done = False\n",
    "    observation = env.reset()\n",
    "    driver.epsilon = 0.01\n",
    "#     driver.epsilon = 1.0\n",
    "    reward_check = 0\n",
    "    while not done:\n",
    "        action = driver.act(observation)\n",
    "        observation_, reward, done, info = env.step(action)\n",
    "        reward_check += reward\n",
    "        env.render()\n",
    "        observation = observation_\n",
    "    \n",
    "    env.close()\n",
    "    print(reward_check)\n",
    "    time.sleep(4)"
   ]
  },
  {
   "cell_type": "code",
   "execution_count": 78,
   "metadata": {},
   "outputs": [
    {
     "name": "stderr",
     "output_type": "stream",
     "text": [
      "C:\\ProgramData\\Anaconda3\\lib\\site-packages\\torch\\serialization.py:292: UserWarning: Couldn't retrieve source code for container of type Qnet. It won't be checked for correctness upon loading.\n",
      "  \"type \" + obj.__name__ + \". It won't be checked \"\n",
      "C:\\ProgramData\\Anaconda3\\lib\\site-packages\\torch\\serialization.py:292: UserWarning: Couldn't retrieve source code for container of type Linear. It won't be checked for correctness upon loading.\n",
      "  \"type \" + obj.__name__ + \". It won't be checked \"\n",
      "C:\\ProgramData\\Anaconda3\\lib\\site-packages\\torch\\serialization.py:292: UserWarning: Couldn't retrieve source code for container of type ReLU. It won't be checked for correctness upon loading.\n",
      "  \"type \" + obj.__name__ + \". It won't be checked \"\n",
      "C:\\ProgramData\\Anaconda3\\lib\\site-packages\\torch\\serialization.py:292: UserWarning: Couldn't retrieve source code for container of type MSELoss. It won't be checked for correctness upon loading.\n",
      "  \"type \" + obj.__name__ + \". It won't be checked \"\n"
     ]
    }
   ],
   "source": [
    "# torch.save(driver,'lunar_lander_3780ep_0.001_0.1_0.9_1024_100000_shaky_wrkround')"
   ]
  },
  {
   "cell_type": "code",
   "execution_count": 79,
   "metadata": {},
   "outputs": [],
   "source": [
    "driver = torch.load('lunar_lander_3780ep_0.001_0.1_0.9_1024_100000')"
   ]
  },
  {
   "cell_type": "code",
   "execution_count": null,
   "metadata": {},
   "outputs": [],
   "source": [
    "# torch.save(driver,'cartpole_120ep_0.001_1.0_0.9996_everysteplrn_0.9_248_100000')"
   ]
  },
  {
   "cell_type": "code",
   "execution_count": 19,
   "metadata": {},
   "outputs": [
    {
     "name": "stderr",
     "output_type": "stream",
     "text": [
      "C:\\ProgramData\\Anaconda3\\lib\\site-packages\\torch\\serialization.py:292: UserWarning: Couldn't retrieve source code for container of type Qnet. It won't be checked for correctness upon loading.\n",
      "  \"type \" + obj.__name__ + \". It won't be checked \"\n",
      "C:\\ProgramData\\Anaconda3\\lib\\site-packages\\torch\\serialization.py:292: UserWarning: Couldn't retrieve source code for container of type Linear. It won't be checked for correctness upon loading.\n",
      "  \"type \" + obj.__name__ + \". It won't be checked \"\n",
      "C:\\ProgramData\\Anaconda3\\lib\\site-packages\\torch\\serialization.py:292: UserWarning: Couldn't retrieve source code for container of type ReLU. It won't be checked for correctness upon loading.\n",
      "  \"type \" + obj.__name__ + \". It won't be checked \"\n",
      "C:\\ProgramData\\Anaconda3\\lib\\site-packages\\torch\\serialization.py:292: UserWarning: Couldn't retrieve source code for container of type MSELoss. It won't be checked for correctness upon loading.\n",
      "  \"type \" + obj.__name__ + \". It won't be checked \"\n"
     ]
    }
   ],
   "source": [
    "# torch.save(driver,'Acrobot_600ep_0.001_1.0_0.996_0.9_248_100000')"
   ]
  },
  {
   "cell_type": "code",
   "execution_count": null,
   "metadata": {},
   "outputs": [],
   "source": []
  },
  {
   "cell_type": "code",
   "execution_count": 96,
   "metadata": {},
   "outputs": [],
   "source": [
    "import matplotlib.pyplot as plt"
   ]
  },
  {
   "cell_type": "code",
   "execution_count": 184,
   "metadata": {},
   "outputs": [
    {
     "data": {
      "text/plain": [
       "[<matplotlib.lines.Line2D at 0x20c9eae0748>]"
      ]
     },
     "execution_count": 184,
     "metadata": {},
     "output_type": "execute_result"
    },
    {
     "data": {
      "image/png": "[encoded data removed]",
      "text/plain": [
       "<Figure size 432x288 with 1 Axes>"
      ]
     },
     "metadata": {
      "needs_background": "light"
     },
     "output_type": "display_data"
    }
   ],
   "source": [
    "plt.plot(scores)"
   ]
  },
  {
   "cell_type": "code",
   "execution_count": 150,
   "metadata": {},
   "outputs": [
    {
     "data": {
      "text/plain": [
       "6185"
      ]
     },
     "execution_count": 150,
     "metadata": {},
     "output_type": "execute_result"
    }
   ],
   "source": [
    "list(np.array(scores[2500:]) > 190).count(False)"
   ]
  },
  {
   "cell_type": "code",
   "execution_count": null,
   "metadata": {},
   "outputs": [],
   "source": []
  },
  {
   "cell_type": "code",
   "execution_count": null,
   "metadata": {},
   "outputs": [],
   "source": []
  },
  {
   "cell_type": "code",
   "execution_count": 27,
   "metadata": {},
   "outputs": [],
   "source": [
    "y = []\n",
    "for i in range(1000):\n",
    "    y.append(np.random.random() > 0.9)"
   ]
  },
  {
   "cell_type": "code",
   "execution_count": 29,
   "metadata": {},
   "outputs": [
    {
     "data": {
      "text/plain": [
       "888"
      ]
     },
     "execution_count": 29,
     "metadata": {},
     "output_type": "execute_result"
    }
   ],
   "source": [
    "y.count(False)"
   ]
  },
  {
   "cell_type": "code",
   "execution_count": 26,
   "metadata": {},
   "outputs": [],
   "source": [
    "# loss = -m.log_prob(action) * reward\n",
    "# loss.backward()"
   ]
  },
  {
   "cell_type": "code",
   "execution_count": 17,
   "metadata": {},
   "outputs": [],
   "source": [
    "def cumulative_disc_rw(rewards,gamma):\n",
    "    cumulative_rw = [sum(rewards[i:]) for i in range(len(rewards))]\n",
    "    return cumulative_rw"
   ]
  },
  {
   "cell_type": "code",
   "execution_count": 18,
   "metadata": {},
   "outputs": [
    {
     "name": "stderr",
     "output_type": "stream",
     "text": [
      "C:\\ProgramData\\Anaconda3\\lib\\site-packages\\ipykernel_launcher.py:19: UserWarning: Implicit dimension choice for softmax has been deprecated. Change the call to include dim=X as an argument.\n"
     ]
    },
    {
     "name": "stdout",
     "output_type": "stream",
     "text": [
      "------------- 0 ----------------\n"
     ]
    }
   ],
   "source": [
    "data = []\n",
    "net = Net(in_features,out_features)\n",
    "n_episodes = 100\n",
    "batch_size = 512\n",
    "gamma = 0.9\n",
    "optimizer = optim.Adam(params=net.parameters(),lr=0.0001)\n",
    "for e in range(n_episodes):\n",
    "#     print('-----------',e,'------------','\\n','length of data',len(data))\n",
    "    states = []\n",
    "    actions = []\n",
    "    rewards = []\n",
    "    state = env.reset()\n",
    "    done = False\n",
    "    while not done:\n",
    "        probs = net(torch.FloatTensor(state))\n",
    "        m = Categorical(probs)\n",
    "        action = m.sample().item()\n",
    "#         action = env.action_space.sample()\n",
    "        state,reward,done,_ = env.step(action)\n",
    "        states.append(state)\n",
    "        actions.append(action)\n",
    "        rewards.append(reward)\n",
    "        if done:\n",
    "            break\n",
    "#         env.render()\n",
    "    env.close()\n",
    "#     data.extend(list(zip(states,actions,rewards)))\n",
    "    data.extend(list(zip(states,actions,cumulative_disc_rw(rewards,gamma))))\n",
    "    \n",
    "    if (len(data) > 1000) & (e % 3 == 0):\n",
    "#         print('Training Network')\n",
    "        \n",
    "        batch = random.sample(data,k=batch_size)\n",
    "        states_v = list(zip(*batch))[0]\n",
    "        acts_v = list(zip(*batch))[1]\n",
    "        rewards_v = list(zip(*batch))[2]\n",
    "        rewards_v = np.array(rewards_v)\n",
    "        rewards_v = rewards_v/(rewards_v.max()-rewards_v.min())\n",
    "        acts_prob = net(torch.FloatTensor(states_v).view(batch_size,2))\n",
    "        log_acts_v = torch.log(acts_prob)\n",
    "        selected_log_prob = torch.FloatTensor(rewards_v) * log_acts_v[np.arange(len(acts_v)),acts_v]\n",
    "        loss = -selected_log_prob.mean()\n",
    "        optimizer.zero_grad()\n",
    "        loss.backward()\n",
    "        optimizer.step()\n",
    "        \n",
    "    if len(data) > 5000:\n",
    "#         print(\"setting data to 5000\")\n",
    "        data = data[-5000:]\n",
    "    if e % 100 == 0:\n",
    "        print('-------------',e,'----------------')"
   ]
  },
  {
   "cell_type": "code",
   "execution_count": null,
   "metadata": {},
   "outputs": [],
   "source": []
  },
  {
   "cell_type": "code",
   "execution_count": 19,
   "metadata": {},
   "outputs": [
    {
     "name": "stderr",
     "output_type": "stream",
     "text": [
      "C:\\ProgramData\\Anaconda3\\lib\\site-packages\\ipykernel_launcher.py:19: UserWarning: Implicit dimension choice for softmax has been deprecated. Change the call to include dim=X as an argument.\n"
     ]
    }
   ],
   "source": [
    "for e in range(50):\n",
    "    state = env.reset()\n",
    "    done = False\n",
    "    while not done:\n",
    "        probs = net(torch.FloatTensor(state))\n",
    "        action = np.argmax(probs.detach().numpy())\n",
    "#         action = env.action_space.sample()\n",
    "        state,reward,done,_ = env.step(action)\n",
    "        if done:\n",
    "            break\n",
    "        env.render()\n",
    "    env.close()"
   ]
  },
  {
   "cell_type": "code",
   "execution_count": null,
   "metadata": {},
   "outputs": [],
   "source": []
  },
  {
   "cell_type": "code",
   "execution_count": null,
   "metadata": {},
   "outputs": [],
   "source": []
  },
  {
   "cell_type": "code",
   "execution_count": null,
   "metadata": {},
   "outputs": [],
   "source": []
  }
 ],
 "metadata": {
  "kernelspec": {
   "display_name": "Python 3",
   "language": "python",
   "name": "python3"
  },
  "language_info": {
   "codemirror_mode": {
    "name": "ipython",
    "version": 3
   },
   "file_extension": ".py",
   "mimetype": "text/x-python",
   "name": "python",
   "nbconvert_exporter": "python",
   "pygments_lexer": "ipython3",
   "version": "3.7.3"
  }
 },
 "nbformat": 4,
 "nbformat_minor": 2
}
